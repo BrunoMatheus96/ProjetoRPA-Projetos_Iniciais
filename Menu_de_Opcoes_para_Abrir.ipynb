{
 "cells": [
  {
   "cell_type": "code",
   "execution_count": 1,
   "id": "351144d9",
   "metadata": {},
   "outputs": [
    {
     "name": "stdout",
     "output_type": "stream",
     "text": [
      "Requirement already satisfied: pyautogui in c:\\users\\55119\\anaconda3\\lib\\site-packages (0.9.54)\n",
      "Requirement already satisfied: pymsgbox in c:\\users\\55119\\anaconda3\\lib\\site-packages (from pyautogui) (1.0.9)\n",
      "Requirement already satisfied: pytweening>=1.0.4 in c:\\users\\55119\\anaconda3\\lib\\site-packages (from pyautogui) (1.2.0)\n",
      "Requirement already satisfied: pyscreeze>=0.1.21 in c:\\users\\55119\\anaconda3\\lib\\site-packages (from pyautogui) (1.0.1)\n",
      "Requirement already satisfied: pygetwindow>=0.0.5 in c:\\users\\55119\\anaconda3\\lib\\site-packages (from pyautogui) (0.0.9)\n",
      "Requirement already satisfied: mouseinfo in c:\\users\\55119\\anaconda3\\lib\\site-packages (from pyautogui) (0.1.3)\n",
      "Requirement already satisfied: pyrect in c:\\users\\55119\\anaconda3\\lib\\site-packages (from pygetwindow>=0.0.5->pyautogui) (0.2.0)\n",
      "Requirement already satisfied: pyperclip in c:\\users\\55119\\anaconda3\\lib\\site-packages (from mouseinfo->pyautogui) (1.9.0)\n",
      "Note: you may need to restart the kernel to use updated packages.\n"
     ]
    }
   ],
   "source": [
    "#Biblioteca usada para controlar o computador\n",
    "%pip install pyautogui "
   ]
  },
  {
   "cell_type": "code",
   "execution_count": 2,
   "id": "66a55bca",
   "metadata": {},
   "outputs": [],
   "source": [
    "import pyautogui as escolha_opcao"
   ]
  },
  {
   "cell_type": "code",
   "execution_count": 3,
   "id": "18261ab0",
   "metadata": {},
   "outputs": [
    {
     "name": "stdout",
     "output_type": "stream",
     "text": [
      "Point(x=-1043, y=336)\n"
     ]
    }
   ],
   "source": [
    "#Tempo de espera para o computador pensar\n",
    "escolha_opcao.sleep(5)\n",
    "\n",
    "#Comando para identificar a posição do mouse\n",
    "print(escolha_opcao.position())"
   ]
  },
  {
   "cell_type": "code",
   "execution_count": 5,
   "id": "95b818de",
   "metadata": {},
   "outputs": [],
   "source": [
    "opcao = escolha_opcao.confirm('Clique no botão desejado', buttons = ['Excel', 'Word', \"Notepad\"])\n",
    "\n",
    "if opcao == \"Excel\":\n",
    "    \n",
    "    #O hotkey nos permite executar mais de uma tecla de atalho do windows, ou seja do teclado\n",
    "    #Nesse caso é a mesma coisa que precionar Windows + R\n",
    "    escolha_opcao.hotkey('win', 'r')\n",
    "    \n",
    "    #Tempo de espera para o computador pensar\n",
    "    escolha_opcao.sleep(2)\n",
    "    \n",
    "    #Digitamos a palavra Excel\n",
    "    escolha_opcao.typewrite('Excel')\n",
    "    \n",
    "    #Tempo de espera para o computador pensar\n",
    "    escolha_opcao.sleep(2)\n",
    "    \n",
    "    #Precionamos a tecla Enter\n",
    "    escolha_opcao.press('Enter')\n",
    "    \n",
    "    #Tempo de espera para o computador pensar\n",
    "    escolha_opcao.sleep(4)\n",
    "    \n",
    "    #CLiquei na opção para abrir um excel em branco\n",
    "    escolha_opcao.click(x=600, y=241)\n",
    "    \n",
    "    #Tempo de espera para o computador pensar\n",
    "    escolha_opcao.sleep(3)\n",
    "    \n",
    "    escolha_opcao.typewrite('Escolhi abrir o Excel')\n",
    "    \n",
    "    #print(escolha_opcao.position())\n",
    "    \n",
    "    \n",
    "elif opcao == \"Word\":\n",
    "    \n",
    "    #O hotkey nos permite executar mais de uma tecla de atalho do windows, ou seja do teclado\n",
    "    #Nesse caso é a mesma coisa que precionar Windows + R\n",
    "    escolha_opcao.hotkey('win', 'r')\n",
    "    \n",
    "    #Tempo de espera para o computador pensar\n",
    "    escolha_opcao.sleep(2)\n",
    "    \n",
    "    #Digitamos a palavra Excel\n",
    "    escolha_opcao.typewrite('winword')\n",
    "    \n",
    "    #Tempo de espera para o computador pensar\n",
    "    escolha_opcao.sleep(2)\n",
    "    \n",
    "    #Precionamos a tecla Enter\n",
    "    escolha_opcao.press('Enter')\n",
    "    \n",
    "    #Tempo de espera para o computador pensar\n",
    "    escolha_opcao.sleep(6)\n",
    "    \n",
    "    #CLiquei na opção para abrir um excel em branco\n",
    "    escolha_opcao.click(x=447, y=334)\n",
    "    \n",
    "    #Tempo de espera para o computador pensar\n",
    "    escolha_opcao.sleep(5)\n",
    "    \n",
    "    escolha_opcao.typewrite('Escolhi abrir o Word')\n",
    "    \n",
    "    #print(escolha_opcao.position())\n",
    "    \n",
    "elif opcao == \"Notepad\":\n",
    "    \n",
    "    #O hotkey nos permite executar mais de uma tecla de atalho do windows, ou seja do teclado\n",
    "    #Nesse caso é a mesma coisa que precionar Windows + R\n",
    "    escolha_opcao.hotkey('win', 'r')\n",
    "    \n",
    "    #Tempo de espera para o computador pensar\n",
    "    escolha_opcao.sleep(2)\n",
    "    \n",
    "    #Digitamos a palavra Excel\n",
    "    escolha_opcao.typewrite('Notepad')\n",
    "    \n",
    "    #Tempo de espera para o computador pensar\n",
    "    escolha_opcao.sleep(2)\n",
    "    \n",
    "    #Precionamos a tecla Enter\n",
    "    escolha_opcao.press('Enter')\n",
    "    \n",
    "    #Tempo de espera para o computador pensar\n",
    "    escolha_opcao.sleep(4)\n",
    "    \n",
    "    escolha_opcao.typewrite('Escolhi abrir o notepad')\n"
   ]
  }
 ],
 "metadata": {
  "kernelspec": {
   "display_name": "base",
   "language": "python",
   "name": "python3"
  },
  "language_info": {
   "codemirror_mode": {
    "name": "ipython",
    "version": 3
   },
   "file_extension": ".py",
   "mimetype": "text/x-python",
   "name": "python",
   "nbconvert_exporter": "python",
   "pygments_lexer": "ipython3",
   "version": "3.12.4"
  }
 },
 "nbformat": 4,
 "nbformat_minor": 5
}
