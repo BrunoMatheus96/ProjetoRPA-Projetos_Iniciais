{
 "cells": [
  {
   "cell_type": "code",
   "execution_count": 1,
   "id": "351144d9",
   "metadata": {},
   "outputs": [
    {
     "name": "stdout",
     "output_type": "stream",
     "text": [
      "Requirement already satisfied: pyautogui in c:\\users\\55119\\anaconda3\\lib\\site-packages (0.9.54)\n",
      "Requirement already satisfied: pymsgbox in c:\\users\\55119\\anaconda3\\lib\\site-packages (from pyautogui) (1.0.9)\n",
      "Requirement already satisfied: pytweening>=1.0.4 in c:\\users\\55119\\anaconda3\\lib\\site-packages (from pyautogui) (1.2.0)\n",
      "Requirement already satisfied: pyscreeze>=0.1.21 in c:\\users\\55119\\anaconda3\\lib\\site-packages (from pyautogui) (1.0.1)\n",
      "Requirement already satisfied: pygetwindow>=0.0.5 in c:\\users\\55119\\anaconda3\\lib\\site-packages (from pyautogui) (0.0.9)\n",
      "Requirement already satisfied: mouseinfo in c:\\users\\55119\\anaconda3\\lib\\site-packages (from pyautogui) (0.1.3)\n",
      "Requirement already satisfied: pyrect in c:\\users\\55119\\anaconda3\\lib\\site-packages (from pygetwindow>=0.0.5->pyautogui) (0.2.0)\n",
      "Requirement already satisfied: pyperclip in c:\\users\\55119\\anaconda3\\lib\\site-packages (from mouseinfo->pyautogui) (1.9.0)\n",
      "Note: you may need to restart the kernel to use updated packages.\n"
     ]
    }
   ],
   "source": [
    "#Biblioteca usada para controlar o computador\n",
    "%pip install pyautogui "
   ]
  },
  {
   "cell_type": "code",
   "execution_count": 1,
   "id": "66a55bca",
   "metadata": {},
   "outputs": [],
   "source": [
    "import pyautogui as posicaoAbrirGoogle"
   ]
  },
  {
   "cell_type": "code",
   "execution_count": 3,
   "id": "18261ab0",
   "metadata": {},
   "outputs": [
    {
     "name": "stdout",
     "output_type": "stream",
     "text": [
      "Point(x=419, y=428)\n"
     ]
    }
   ],
   "source": [
    "#Tempo de espera para o computador pensar\n",
    "posicaoAbrirGoogle.sleep(5)\n",
    "\n",
    "#Comando para identificar a posição do mouse\n",
    "print(posicaoAbrirGoogle.position())"
   ]
  },
  {
   "cell_type": "code",
   "execution_count": 6,
   "id": "577f2708",
   "metadata": {},
   "outputs": [],
   "source": [
    "#Tempo de espera para o computador pensar\n",
    "posicaoAbrirGoogle.sleep(4)\n",
    "\n",
    "#Clicamos no botão Start ou seja no botão do Windows\n",
    "posicaoAbrirGoogle.click(x=166, y=740)\n",
    "\n",
    "#Tempo de espera para o computador pensar\n",
    "posicaoAbrirGoogle.sleep(3)\n",
    "\n",
    "#Selecionar um Chrome\n",
    "posicaoAbrirGoogle.click(x=419, y=428)\n",
    "\n",
    "#Tempo de espera para o computador pensar\n",
    "posicaoAbrirGoogle.sleep(3)\n",
    "\n",
    "#Digitamos o site do google\n",
    "posicaoAbrirGoogle.typewrite('Dolar hoje')\n",
    "\n",
    "#Tempo de espera para o computador pensar\n",
    "posicaoAbrirGoogle.sleep(3)\n",
    "\n",
    "#Apertamos a tecla enter\n",
    "posicaoAbrirGoogle.press('enter')\n"
   ]
  }
 ],
 "metadata": {
  "kernelspec": {
   "display_name": "base",
   "language": "python",
   "name": "python3"
  },
  "language_info": {
   "codemirror_mode": {
    "name": "ipython",
    "version": 3
   },
   "file_extension": ".py",
   "mimetype": "text/x-python",
   "name": "python",
   "nbconvert_exporter": "python",
   "pygments_lexer": "ipython3",
   "version": "3.12.4"
  }
 },
 "nbformat": 4,
 "nbformat_minor": 5
}
